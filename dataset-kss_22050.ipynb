{
 "cells": [
  {
   "cell_type": "code",
   "execution_count": 1,
   "metadata": {},
   "outputs": [
    {
     "name": "stdout",
     "output_type": "stream",
     "text": [
      "12853\n"
     ]
    }
   ],
   "source": [
    "kss_dir = '/home/scpark/hard/datasets/kss_22050'\n",
    "\n",
    "kss_datasets = []\n",
    "with open(kss_dir + '/transcript.v.1.3.txt') as f:\n",
    "    while(True):\n",
    "        line = f.readline()\n",
    "        \n",
    "        if not line:\n",
    "            break\n",
    "        \n",
    "        line = line.split('|')\n",
    "        path = kss_dir + '/' + line[0]\n",
    "        text = line[2]\n",
    "        \n",
    "        kss_datasets.append({'path': path, 'text': text})\n",
    "            \n",
    "print(len(kss_datasets))"
   ]
  },
  {
   "cell_type": "code",
   "execution_count": 2,
   "metadata": {
    "scrolled": true
   },
   "outputs": [
    {
     "name": "stdout",
     "output_type": "stream",
     "text": [
      "{'path': '/home/scpark/hard/datasets/kss_22050/1/1_0000.wav', 'text': '그는 괜찮은 척하려고 애쓰는 것 같았다.'}\n",
      "{'path': '/home/scpark/hard/datasets/kss_22050/1/1_0001.wav', 'text': '그녀의 사랑을 얻기 위해 애썼지만 헛수고였다.'}\n",
      "{'path': '/home/scpark/hard/datasets/kss_22050/1/1_0002.wav', 'text': '용돈을 아껴 써라.'}\n",
      "{'path': '/home/scpark/hard/datasets/kss_22050/1/1_0003.wav', 'text': '그는 아내를 많이 아낀다.'}\n",
      "{'path': '/home/scpark/hard/datasets/kss_22050/1/1_0004.wav', 'text': '그 애 전화번호 알아?'}\n",
      "{'path': '/home/scpark/hard/datasets/kss_22050/1/1_0005.wav', 'text': '차에 대해 잘 아세요?'}\n",
      "{'path': '/home/scpark/hard/datasets/kss_22050/1/1_0006.wav', 'text': '거기 도착하면 나한테 알려 줘.'}\n",
      "{'path': '/home/scpark/hard/datasets/kss_22050/1/1_0007.wav', 'text': '그들은 내가 시험에 떨어졌다고 알려 왔다.'}\n",
      "{'path': '/home/scpark/hard/datasets/kss_22050/1/1_0008.wav', 'text': '나는 살아오면서 감기를 앓은 적이 한 번도 없다.'}\n",
      "{'path': '/home/scpark/hard/datasets/kss_22050/1/1_0009.wav', 'text': '사흘 동안 심하게 몸살을 앓았어요.'}\n",
      "{'path': '/home/scpark/hard/datasets/kss_22050/1/1_0010.wav', 'text': '요즘 공부가 안돼요.'}\n",
      "{'path': '/home/scpark/hard/datasets/kss_22050/1/1_0011.wav', 'text': '장사가 잘 안돼서 우울해.'}\n",
      "{'path': '/home/scpark/hard/datasets/kss_22050/1/1_0012.wav', 'text': '아무 것도 먹지 않으면 죽게 되어 있다.'}\n",
      "{'path': '/home/scpark/hard/datasets/kss_22050/1/1_0013.wav', 'text': '그녀는 이유를 묻지 않고 돈을 빌려 주었다.'}\n",
      "{'path': '/home/scpark/hard/datasets/kss_22050/1/1_0014.wav', 'text': '내가 아기를 안고 있을게.'}\n",
      "{'path': '/home/scpark/hard/datasets/kss_22050/1/1_0015.wav', 'text': '엄마는 말없이 나를 꼭 안아 주셨다.'}\n",
      "{'path': '/home/scpark/hard/datasets/kss_22050/1/1_0016.wav', 'text': '자리에 앉으세요.'}\n",
      "{'path': '/home/scpark/hard/datasets/kss_22050/1/1_0017.wav', 'text': '한 여자가 내 옆에 앉았다.'}\n",
      "{'path': '/home/scpark/hard/datasets/kss_22050/1/1_0018.wav', 'text': '일일사에 전화를 해서 번호를 알아보시지 그러세요?'}\n",
      "{'path': '/home/scpark/hard/datasets/kss_22050/1/1_0019.wav', 'text': '내가 누군지 알아보겠니?'}\n",
      "{'path': '/home/scpark/hard/datasets/kss_22050/1/1_0020.wav', 'text': '그는 절대 다른 사람의 의견을 받아들이지 않는다.'}\n",
      "{'path': '/home/scpark/hard/datasets/kss_22050/1/1_0021.wav', 'text': '아이들도 언젠가는 그녀를 엄마로 받아들일 거야.'}\n",
      "{'path': '/home/scpark/hard/datasets/kss_22050/1/1_0022.wav', 'text': '어디에서 영어를 배우셨어요?'}\n",
      "{'path': '/home/scpark/hard/datasets/kss_22050/1/1_0023.wav', 'text': '동료에게서 수화를 배우고 있습니다.'}\n",
      "{'path': '/home/scpark/hard/datasets/kss_22050/1/1_0024.wav', 'text': '이거 다른 걸로 바꿀 수 있을까요?'}\n",
      "{'path': '/home/scpark/hard/datasets/kss_22050/1/1_0025.wav', 'text': '색깔을 바꾸는 게 나을 거 같아.'}\n",
      "{'path': '/home/scpark/hard/datasets/kss_22050/1/1_0026.wav', 'text': '소영이 좀 바꿔 주세요.'}\n",
      "{'path': '/home/scpark/hard/datasets/kss_22050/1/1_0027.wav', 'text': '눈이 얼음으로 바뀌었어.'}\n",
      "{'path': '/home/scpark/hard/datasets/kss_22050/1/1_0028.wav', 'text': '핸드폰이 네 거랑 바뀐 거 같아.'}\n",
      "{'path': '/home/scpark/hard/datasets/kss_22050/1/1_0029.wav', 'text': '그 차는 들판에 버려진 채 발견됐다.'}\n",
      "{'path': '/home/scpark/hard/datasets/kss_22050/1/1_0030.wav', 'text': '이번 달 초에 상어떼가 해안가에서 발견됐다.'}\n",
      "{'path': '/home/scpark/hard/datasets/kss_22050/1/1_0031.wav', 'text': '오타를 발견하시는 분께 사례하겠습니다.'}\n",
      "{'path': '/home/scpark/hard/datasets/kss_22050/1/1_0032.wav', 'text': '결국 그의 개가 그의 시신을 발견했다.'}\n",
      "{'path': '/home/scpark/hard/datasets/kss_22050/1/1_0033.wav', 'text': '정신분석학은 이십 세기에 급격히 발전했다.'}\n",
      "{'path': '/home/scpark/hard/datasets/kss_22050/1/1_0034.wav', 'text': '한국어 실력이 날이 갈수록 발전하는 것을 보니 기쁩니다.'}\n",
      "{'path': '/home/scpark/hard/datasets/kss_22050/1/1_0035.wav', 'text': '죄송하지만 제 이름을 밝힐 수는 없어요.'}\n",
      "{'path': '/home/scpark/hard/datasets/kss_22050/1/1_0036.wav', 'text': '정전이 되어 촛불을 밝혔다.'}\n",
      "{'path': '/home/scpark/hard/datasets/kss_22050/1/1_0037.wav', 'text': '모두가 시험에 통과했음을 발표하게 되어 기쁘게 생각합니다.'}\n",
      "{'path': '/home/scpark/hard/datasets/kss_22050/1/1_0038.wav', 'text': '그 밴드는 첫 음반을 발표한 직후에 해체했다.'}\n",
      "{'path': '/home/scpark/hard/datasets/kss_22050/1/1_0039.wav', 'text': '화재가 발생하지 않도록 조심해라.'}\n",
      "{'path': '/home/scpark/hard/datasets/kss_22050/1/1_0040.wav', 'text': '어제 일본에서 태풍이 발생했다.'}\n",
      "{'path': '/home/scpark/hard/datasets/kss_22050/1/1_0041.wav', 'text': '돌고래는 지능이 발달했다.'}\n",
      "{'path': '/home/scpark/hard/datasets/kss_22050/1/1_0042.wav', 'text': '이 지역에는 농업이 발달했어요.'}\n",
      "{'path': '/home/scpark/hard/datasets/kss_22050/1/1_0043.wav', 'text': '그녀는 내 제안에 반대했다.'}\n",
      "{'path': '/home/scpark/hard/datasets/kss_22050/1/1_0044.wav', 'text': '저는 무력 사용을 반대합니다.'}\n",
      "{'path': '/home/scpark/hard/datasets/kss_22050/1/1_0045.wav', 'text': '밤늦게 남의 집을 방문하는 것은 실례다.'}\n",
      "{'path': '/home/scpark/hard/datasets/kss_22050/1/1_0046.wav', 'text': '저희 회사에 방문해 주셔서 감사드립니다.'}\n",
      "{'path': '/home/scpark/hard/datasets/kss_22050/1/1_0047.wav', 'text': '너는 브레이크를 너무 세게 밟아.'}\n",
      "{'path': '/home/scpark/hard/datasets/kss_22050/1/1_0048.wav', 'text': '어떤 남자가 지하철에서 내 발을 밟고 모른 척했다.'}\n",
      "{'path': '/home/scpark/hard/datasets/kss_22050/1/1_0049.wav', 'text': '그녀는 호기심으로 가득찬 눈으로 나를 바라보았다.'}\n",
      "{'path': '/home/scpark/hard/datasets/kss_22050/1/1_0050.wav', 'text': '이 문제는 제 삼 자의 시각에서 바라볼 필요가 있어.'}\n",
      "{'path': '/home/scpark/hard/datasets/kss_22050/1/1_0051.wav', 'text': '저한테 너무 많은 걸 바라지 마세요.'}\n",
      "{'path': '/home/scpark/hard/datasets/kss_22050/1/1_0052.wav', 'text': '빨리 나으시길 바랍니다.'}\n",
      "{'path': '/home/scpark/hard/datasets/kss_22050/1/1_0053.wav', 'text': '입술에 침이나 바르고 말해.'}\n",
      "{'path': '/home/scpark/hard/datasets/kss_22050/1/1_0054.wav', 'text': '선크림을 발랐어야지.'}\n",
      "{'path': '/home/scpark/hard/datasets/kss_22050/1/1_0055.wav', 'text': '나는 생일 선물로 책을 받았다.'}\n",
      "{'path': '/home/scpark/hard/datasets/kss_22050/1/1_0056.wav', 'text': '신용 카드를 받나요?'}\n",
      "{'path': '/home/scpark/hard/datasets/kss_22050/1/1_0057.wav', 'text': '스트레스 받는 일 있어?'}\n",
      "{'path': '/home/scpark/hard/datasets/kss_22050/1/1_0058.wav', 'text': '어떻게 그렇게 돈을 버셨어요?'}\n",
      "{'path': '/home/scpark/hard/datasets/kss_22050/1/1_0059.wav', 'text': '한 달에 삼백만 원을 법니다.'}\n",
      "{'path': '/home/scpark/hard/datasets/kss_22050/1/1_0060.wav', 'text': '입을 벌려 보세요.'}\n",
      "{'path': '/home/scpark/hard/datasets/kss_22050/1/1_0061.wav', 'text': '지하철에서 다리를 벌리고 앉지 마라.'}\n",
      "{'path': '/home/scpark/hard/datasets/kss_22050/1/1_0062.wav', 'text': '벽 사이에 벌어진 틈이 있어.'}\n",
      "{'path': '/home/scpark/hard/datasets/kss_22050/1/1_0063.wav', 'text': '그 법안을 놓고 말다툼이 벌어졌어.'}\n",
      "{'path': '/home/scpark/hard/datasets/kss_22050/1/1_0064.wav', 'text': '담배 꽁초를 여기에 버리지 마세요.'}\n",
      "{'path': '/home/scpark/hard/datasets/kss_22050/1/1_0065.wav', 'text': '돈을 다 써 버렸어요'}\n",
      "{'path': '/home/scpark/hard/datasets/kss_22050/1/1_0066.wav', 'text': '내년 아버지 환갑 때 잔치를 벌일 거야.'}\n",
      "{'path': '/home/scpark/hard/datasets/kss_22050/1/1_0067.wav', 'text': '오늘 아침 아내랑 말다툼을 벌였어.'}\n",
      "{'path': '/home/scpark/hard/datasets/kss_22050/1/1_0068.wav', 'text': '가난에서 벗어나려면 습관부터 바꿔라.'}\n",
      "{'path': '/home/scpark/hard/datasets/kss_22050/1/1_0069.wav', 'text': '복잡한 도시 지역을 벗어나니 참 좋군요.'}\n",
      "{'path': '/home/scpark/hard/datasets/kss_22050/1/1_0070.wav', 'text': '외투 벗으실래요?'}\n",
      "{'path': '/home/scpark/hard/datasets/kss_22050/1/1_0071.wav', 'text': '신발이 너무 꽉 껴서 벗을 수가 없어요.'}\n",
      "{'path': '/home/scpark/hard/datasets/kss_22050/1/1_0072.wav', 'text': '아침 햇빛이 비치는 걸 보니 상쾌하군.'}\n",
      "{'path': '/home/scpark/hard/datasets/kss_22050/1/1_0073.wav', 'text': '커튼 너머에 누군가의 그림자가 비쳤다.'}\n",
      "{'path': '/home/scpark/hard/datasets/kss_22050/1/1_0074.wav', 'text': '램프가 그의 작품을 비추게 배치되어 있었다.'}\n",
      "{'path': '/home/scpark/hard/datasets/kss_22050/1/1_0075.wav', 'text': '아침마다 내 얼굴을 거울에 비춰 봐요.'}\n",
      "{'path': '/home/scpark/hard/datasets/kss_22050/1/1_0076.wav', 'text': '금고는 이미 비어 있었다.'}\n",
      "{'path': '/home/scpark/hard/datasets/kss_22050/1/1_0077.wav', 'text': '이 자리는 비었습니까?'}\n",
      "{'path': '/home/scpark/hard/datasets/kss_22050/1/1_0078.wav', 'text': '우리는 서로 답을 비교해 보았다.'}\n",
      "{'path': '/home/scpark/hard/datasets/kss_22050/1/1_0079.wav', 'text': '부모가 저지르는 큰 실수 중 하나는 자기 아이를 다른 집 아이와 비교하는 것이다.'}\n",
      "{'path': '/home/scpark/hard/datasets/kss_22050/1/1_0080.wav', 'text': '이틀 동안 차를 빌리고 싶은데요.'}\n",
      "{'path': '/home/scpark/hard/datasets/kss_22050/1/1_0081.wav', 'text': '아내에게서 돈을 빌린다는 것은 좀 이상해요.'}\n",
      "{'path': '/home/scpark/hard/datasets/kss_22050/1/1_0082.wav', 'text': '다이아몬드가 눈부시게 빛나고 있었다.'}\n",
      "{'path': '/home/scpark/hard/datasets/kss_22050/1/1_0083.wav', 'text': '모든 창에서 촛불이 반짝반짝 빛나고 있었다.'}\n",
      "{'path': '/home/scpark/hard/datasets/kss_22050/1/1_0084.wav', 'text': '영화 보러 갈까?'}\n",
      "{'path': '/home/scpark/hard/datasets/kss_22050/1/1_0085.wav', 'text': '오늘 우연히 길에서 그 여자를 봤어요.'}\n",
      "{'path': '/home/scpark/hard/datasets/kss_22050/1/1_0086.wav', 'text': '제가 해 볼게요.'}\n",
      "{'path': '/home/scpark/hard/datasets/kss_22050/1/1_0087.wav', 'text': '어디선가 뵌 분 같아요.'}\n",
      "{'path': '/home/scpark/hard/datasets/kss_22050/1/1_0088.wav', 'text': '지난번에 뵌 후 오랜만에 뵙습니다.'}\n",
      "{'path': '/home/scpark/hard/datasets/kss_22050/1/1_0089.wav', 'text': '그거 맛있어 보이네.'}\n",
      "{'path': '/home/scpark/hard/datasets/kss_22050/1/1_0090.wav', 'text': '그는 나이에 비해 정말 젊어 보인다.'}\n",
      "{'path': '/home/scpark/hard/datasets/kss_22050/1/1_0091.wav', 'text': '그녀가 나에게 사진 몇 장을 보여 주었다.'}\n",
      "{'path': '/home/scpark/hard/datasets/kss_22050/1/1_0092.wav', 'text': '주민등록증을 보여 주시겠어요?'}\n",
      "{'path': '/home/scpark/hard/datasets/kss_22050/1/1_0093.wav', 'text': '김치가 맛이 없어서 볶았어.'}\n",
      "{'path': '/home/scpark/hard/datasets/kss_22050/1/1_0094.wav', 'text': '고기를 기름에 볶지 마라.'}\n",
      "{'path': '/home/scpark/hard/datasets/kss_22050/1/1_0095.wav', 'text': '이 소포를 뉴욕으로 보내고 싶은데요.'}\n",
      "{'path': '/home/scpark/hard/datasets/kss_22050/1/1_0096.wav', 'text': '선생님께 한 부 보내 드리겠습니다.'}\n",
      "{'path': '/home/scpark/hard/datasets/kss_22050/1/1_0097.wav', 'text': '휴가 잘 보내세요.'}\n",
      "{'path': '/home/scpark/hard/datasets/kss_22050/1/1_0098.wav', 'text': '그녀는 짐 하나하나에 이름표를 붙였다.'}\n",
      "{'path': '/home/scpark/hard/datasets/kss_22050/1/1_0099.wav', 'text': '침으로 편지 봉투에 우표를 붙이지 마세요.'}\n"
     ]
    }
   ],
   "source": [
    "for data in kss_datasets[:100]:\n",
    "    print(data)"
   ]
  },
  {
   "cell_type": "code",
   "execution_count": 3,
   "metadata": {},
   "outputs": [
    {
     "name": "stdout",
     "output_type": "stream",
     "text": [
      "12853\n"
     ]
    }
   ],
   "source": [
    "data_files = kss_datasets\n",
    "print(len(data_files))"
   ]
  },
  {
   "cell_type": "code",
   "execution_count": 5,
   "metadata": {},
   "outputs": [
    {
     "name": "stdout",
     "output_type": "stream",
     "text": [
      "12853 0 0\n"
     ]
    },
    {
     "data": {
      "application/vnd.jupyter.widget-view+json": {
       "model_id": "572d328fa2024d3c8d5929cff543025a",
       "version_major": 2,
       "version_minor": 0
      },
      "text/plain": [
       "HBox(children=(FloatProgress(value=1.0, bar_style='info', max=1.0), HTML(value='')))"
      ]
     },
     "metadata": {},
     "output_type": "display_data"
    },
    {
     "name": "stdout",
     "output_type": "stream",
     "text": [
      "\n"
     ]
    }
   ],
   "source": [
    "import os\n",
    "import librosa\n",
    "\n",
    "train_ratio, valid_ratio, test_ratio = 1.0, 0.0, 0.0\n",
    "train_index = int(len(data_files) * train_ratio)\n",
    "valid_index = int(len(data_files) * valid_ratio)\n",
    "test_index = int(len(data_files) * test_ratio)\n",
    "print(train_index, valid_index, test_index)\n",
    "\n",
    "def write_filelist(filename, data_files):\n",
    "    from tqdm.notebook import tqdm\n",
    "    \n",
    "    with open(filename, 'w') as file:\n",
    "\n",
    "        for index, data_file in tqdm(enumerate(data_files)):\n",
    "            \n",
    "            data, sampling_rate = librosa.core.load(data_file['path'], sr=22050)\n",
    "            if len(data) > sampling_rate * 10:\n",
    "                print(len(data))\n",
    "                continue\n",
    "            \n",
    "            librosa.output.write_wav(data_file['path'], data, sampling_rate)\n",
    "            l = data_file['path'] + '|' + data_file['text']\n",
    "            file.write(l + os.linesep)\n",
    "\n",
    "write_filelist('filelists/kss_22050_audio_text_train_filelist.txt', data_files[:train_index])"
   ]
  },
  {
   "cell_type": "code",
   "execution_count": null,
   "metadata": {},
   "outputs": [],
   "source": []
  },
  {
   "cell_type": "code",
   "execution_count": null,
   "metadata": {},
   "outputs": [],
   "source": []
  },
  {
   "cell_type": "code",
   "execution_count": null,
   "metadata": {},
   "outputs": [],
   "source": []
  },
  {
   "cell_type": "code",
   "execution_count": null,
   "metadata": {},
   "outputs": [],
   "source": []
  },
  {
   "cell_type": "code",
   "execution_count": null,
   "metadata": {},
   "outputs": [],
   "source": []
  }
 ],
 "metadata": {
  "kernelspec": {
   "display_name": "Python 3",
   "language": "python",
   "name": "python3"
  },
  "language_info": {
   "codemirror_mode": {
    "name": "ipython",
    "version": 3
   },
   "file_extension": ".py",
   "mimetype": "text/x-python",
   "name": "python",
   "nbconvert_exporter": "python",
   "pygments_lexer": "ipython3",
   "version": "3.7.5"
  }
 },
 "nbformat": 4,
 "nbformat_minor": 2
}
